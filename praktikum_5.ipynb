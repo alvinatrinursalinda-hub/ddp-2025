{
  "nbformat": 4,
  "nbformat_minor": 0,
  "metadata": {
    "colab": {
      "provenance": [],
      "authorship_tag": "ABX9TyPZwjW5JyRUAlh+NUszBmuM",
      "include_colab_link": true
    },
    "kernelspec": {
      "name": "python3",
      "display_name": "Python 3"
    },
    "language_info": {
      "name": "python"
    }
  },
  "cells": [
    {
      "cell_type": "markdown",
      "metadata": {
        "id": "view-in-github",
        "colab_type": "text"
      },
      "source": [
        "<a href=\"https://colab.research.google.com/github/alvinatrinursalinda-hub/ddp-2025/blob/main/praktikum_5.ipynb\" target=\"_parent\"><img src=\"https://colab.research.google.com/assets/colab-badge.svg\" alt=\"Open In Colab\"/></a>"
      ]
    },
    {
      "cell_type": "code",
      "source": [
        "\n",
        "namaKendaraan = \"Beat\"\n",
        "jenisKendaraan = \"motor\"\n",
        "ccKendaraan = 200\n",
        "warnaKendaraan = \"Hitam\"\n",
        "rodaKendaraan = 2\n",
        "\n",
        "data_kendaraan = [namaKendaraan, jenisKendaraan, ccKendaraan, warnaKendaraan, rodaKendaraan]\n",
        "print(\"Awal:\", data_kendaraan)\n",
        "\n",
        "hargaKendaraan = 5000\n",
        "tipeKendaraan = \"matic\"   # aku koreksi 'metic' -> 'matic'\n",
        "\n",
        "data_kendaraan.append(hargaKendaraan)\n",
        "data_kendaraan.append(tipeKendaraan)\n",
        "print(\"Setelah menambahkan harga & tipe:\", data_kendaraan)\n",
        "\n",
        "merkKendaraan = \"Honda\"\n",
        "data_kendaraan.insert(2, merkKendaraan)\n",
        "print(\"Setelah menyisipkan merk:\", data_kendaraan)"
      ],
      "metadata": {
        "colab": {
          "base_uri": "https://localhost:8080/"
        },
        "id": "kGrEloUUCCcU",
        "outputId": "07aea0dc-37d7-4d6c-dde6-61dc9b85a7d4"
      },
      "execution_count": 16,
      "outputs": [
        {
          "output_type": "stream",
          "name": "stdout",
          "text": [
            "Awal: ['Beat', 'motor', 200, 'Hitam', 2]\n",
            "Setelah menambahkan harga & tipe: ['Beat', 'motor', 200, 'Hitam', 2, 5000, 'matic']\n",
            "Setelah menyisipkan merk: ['Beat', 'motor', 'Honda', 200, 'Hitam', 2, 5000, 'matic']\n"
          ]
        }
      ]
    },
    {
      "cell_type": "code",
      "source": [
        "\n",
        "\n",
        "pilihan = input(\"\"\"\n",
        "Silahkan pilih menu yang diinginkan\n",
        "===================================\n",
        "1. Luas persegi\n",
        "2. Luas Lingkaran\n",
        "3. Luas Segitiga\n",
        "===================================\n",
        "Kirimkan hanya angka saja,\n",
        "jawaban = \"\"\")\n",
        "\n",
        "print(\"Pilih Bangun Datar:\")\n",
        "print(\"1. Persegi\")\n",
        "print(\"2. Lingkaran\")\n",
        "print(\"3. Segitiga\")\n",
        "\n",
        "pilihan = int(input(\"Masukkan pilihan (1-3): \"))\n",
        "\n",
        "match pilihan:\n",
        "    case 1:\n",
        "        sisi = int(input(\"Masukkan panjang sisi: \"))\n",
        "        luas = sisi * sisi\n",
        "        print(\"Luas persegi =\", luas)\n",
        "    case 2:\n",
        "        r = int(input(\"Masukkan jari-jari lingkaran: \"))\n",
        "        luas = 3.14 * r * r\n",
        "        print(\"Luas lingkaran =\", luas)\n",
        "    case 3:\n",
        "        alas = int(input(\"Masukkan alas segitiga: \"))\n",
        "        tinggi = int(input(\"Masukkan tinggi segitiga: \"))\n",
        "        luas = 0.5 * alas * tinggi\n",
        "        print(\"Luas segitiga =\", luas)\n",
        "    case _:\n",
        "        print(\"Salah pilih!\")"
      ],
      "metadata": {
        "colab": {
          "base_uri": "https://localhost:8080/"
        },
        "id": "5AGaOpO9Cc3m",
        "outputId": "b381df42-419d-4d76-f8b0-0d256fc858bf"
      },
      "execution_count": 20,
      "outputs": [
        {
          "output_type": "stream",
          "name": "stdout",
          "text": [
            "\n",
            "Silahkan pilih menu yang diinginkan\n",
            "===================================\n",
            "1. Luas persegi\n",
            "2. Luas Lingkaran\n",
            "3. Luas Segitiga\n",
            "===================================\n",
            "Kirimkan hanya angka saja,\n",
            "jawaban = 2\n",
            "Pilih Bangun Datar:\n",
            "1. Persegi\n",
            "2. Lingkaran\n",
            "3. Segitiga\n",
            "Masukkan pilihan (1-3): 10\n",
            "Salah pilih!\n"
          ]
        }
      ]
    }
  ]
}