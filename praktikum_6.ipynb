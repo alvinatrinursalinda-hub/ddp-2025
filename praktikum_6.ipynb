{
  "nbformat": 4,
  "nbformat_minor": 0,
  "metadata": {
    "colab": {
      "provenance": [],
      "authorship_tag": "ABX9TyPDcn2IIajtBLkNMHaCSy3g",
      "include_colab_link": true
    },
    "kernelspec": {
      "name": "python3",
      "display_name": "Python 3"
    },
    "language_info": {
      "name": "python"
    }
  },
  "cells": [
    {
      "cell_type": "markdown",
      "metadata": {
        "id": "view-in-github",
        "colab_type": "text"
      },
      "source": [
        "<a href=\"https://colab.research.google.com/github/alvinatrinursalinda-hub/ddp-2025/blob/main/praktikum_6.ipynb\" target=\"_parent\"><img src=\"https://colab.research.google.com/assets/colab-badge.svg\" alt=\"Open In Colab\"/></a>"
      ]
    },
    {
      "cell_type": "code",
      "source": [
        "#Print semua bilangan ganjil dari list berikut,\n",
        "#hentikan perulangan ketika sudah melewati bilangan 553.\n",
        "#Pakai perulangan while\n",
        "\n",
        "\n",
        "numbers = [\n",
        "951, 402, 984, 651, 360, 69, 408, 319, 601, 485, 980, 507, 725, 547,\n",
        "544, 615, 83, 165, 141, 501, 263, 617, 865, 575, 219, 390, 984, 592,\n",
        "236, 105, 942, 941, 386, 462, 47, 418, 907, 344, 236, 375, 823, 566,\n",
        "597, 978, 328, 615, 953, 345, 399, 162, 758, 219, 918, 237, 412, 566,\n",
        "826, 248, 866, 950, 626, 949, 687, 217, 815, 67, 104, 58, 512, 24,\n",
        "892, 894, 767, 553, 81, 379, 843, 831, 445, 742, 717, 958, 609, 842,\n",
        "451, 688, 753, 854, 685, 93, 857, 440, 380, 126, 721, 328, 753, 470,\n",
        "743, 527\n",
        "]\n",
        "\n",
        "index = 0\n",
        "while index < len(numbers):\n",
        "    if numbers[index] == 553:\n",
        "        break\n",
        "    if numbers[index] % 2 != 0:\n",
        "        print(numbers[index])\n",
        "    index += 1"
      ],
      "metadata": {
        "colab": {
          "base_uri": "https://localhost:8080/"
        },
        "id": "feWdZ4CL_zPK",
        "outputId": "23fc964a-cf77-4c17-cb81-6f2c2f4b776c"
      },
      "execution_count": null,
      "outputs": [
        {
          "output_type": "stream",
          "name": "stdout",
          "text": [
            "951\n",
            "651\n",
            "69\n",
            "319\n",
            "601\n",
            "485\n",
            "507\n",
            "725\n",
            "547\n",
            "615\n",
            "83\n",
            "165\n",
            "141\n",
            "501\n",
            "263\n",
            "617\n",
            "865\n",
            "575\n",
            "219\n",
            "105\n",
            "941\n",
            "47\n",
            "907\n",
            "375\n",
            "823\n",
            "597\n",
            "615\n",
            "953\n",
            "345\n",
            "399\n",
            "219\n",
            "237\n",
            "949\n",
            "687\n",
            "217\n",
            "815\n",
            "67\n",
            "767\n"
          ]
        }
      ]
    },
    {
      "cell_type": "code",
      "source": [
        "#Buat lah output dari menggunakan bahasa pemprograman python dengan:\n",
        "#1+3+5+7+9+11+13+15+17+19=..\n",
        "\n",
        "jumlah = 0  # variable untuk menyimpan nilai total\n",
        "string = '' # untuk membangun string deret dengan tanda '+'\n",
        "\n",
        "bilangan = 1\n",
        "while bilangan <= 19:   # ulangi selama bilangan kurang dari atau sama 19\n",
        "    jumlah += bilangan\n",
        "    string += str(bilangan)\n",
        "    if bilangan < 19:\n",
        "        string += '+'\n",
        "    bilangan += 2       # tambahkan 2 setiap iterasi (pindah ke bilangan ganjil berikutnya)\n",
        "\n",
        "print(string, '=', jumlah)"
      ],
      "metadata": {
        "colab": {
          "base_uri": "https://localhost:8080/"
        },
        "id": "U68r6DlcE4AM",
        "outputId": "013b49aa-bf64-41f3-9687-11ba49571471"
      },
      "execution_count": 31,
      "outputs": [
        {
          "output_type": "stream",
          "name": "stdout",
          "text": [
            "1+3+5+7+9+11+13+15+17+19 = 100\n"
          ]
        }
      ]
    },
    {
      "cell_type": "code",
      "source": [
        "# buat program untuk minta input jumlah baris dan buat\n",
        "# rangkaian berikut ini:\n",
        "# *\n",
        "# **\n",
        "# ***\n",
        "# ****\n",
        "\n",
        "baris = int(input('masukan angka: '))\n",
        "for i in range(1, baris + 1):\n",
        "    print('*' * i)"
      ],
      "metadata": {
        "colab": {
          "base_uri": "https://localhost:8080/"
        },
        "id": "_wtIA7LsIA3P",
        "outputId": "83c6db2a-af97-4b6e-caa2-7b98b584cde2"
      },
      "execution_count": 36,
      "outputs": [
        {
          "output_type": "stream",
          "name": "stdout",
          "text": [
            "masukan angka: 9\n",
            "*\n",
            "**\n",
            "***\n",
            "****\n",
            "*****\n",
            "******\n",
            "*******\n",
            "********\n",
            "*********\n"
          ]
        }
      ]
    }
  ]
}